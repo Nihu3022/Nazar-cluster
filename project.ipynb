{
 "cells": [
  {
   "cell_type": "code",
   "execution_count": 0,
   "metadata": {
    "application/vnd.databricks.v1+cell": {
     "cellMetadata": {
      "byteLimit": 2048000,
      "rowLimit": 10000
     },
     "inputWidgets": {},
     "nuid": "04345042-433e-4cc1-9a5d-57535da9d22f",
     "showTitle": false,
     "title": ""
    }
   },
   "outputs": [],
   "source": [
    "#!/usr/bin/env python3\n",
    "# -*- coding: utf-8 -*-\n",
    "\"\"\"\n",
    "Created on Sat Mar 14 22:00:09 2020\n",
    "\n",
    "@author: ufac001\n",
    "\"\"\"\n",
    "\n",
    "from email.parser import Parser\n",
    "import re\n",
    "import time\n",
    "from datetime import datetime, timezone, timedelta\n",
    "\n",
    "def date_to_dt(date):\n",
    "    def to_dt(tms):\n",
    "        def tz():\n",
    "            return timezone(timedelta(seconds=tms.tm_gmtoff))\n",
    "        return datetime(tms.tm_year, tms.tm_mon, tms.tm_mday, \n",
    "                      tms.tm_hour, tms.tm_min, tms.tm_sec, \n",
    "                      tzinfo=tz())\n",
    "    return to_dt(time.strptime(date[:-6], '%a, %d %b %Y %H:%M:%S %z'))\n",
    "\n",
    "\n",
    "\n",
    "\n",
    "\n",
    "# Q3.1: replace pass with your code\n",
    "def get_out_degrees(rdd):\n",
    "    pass\n",
    "\n",
    "# Q3.2: replace pass with your code         \n",
    "def get_in_degrees(rdd):\n",
    "    pass\n",
    "\n",
    "# Q4.1: replace pass with your code            \n",
    "def get_out_degree_dist(rdd):\n",
    "    pass\n",
    "\n",
    "# Q4.2: replace pass with your code\n",
    "def get_in_degree_dist(rdd):\n",
    "    pass"
   ]
  },
  {
   "cell_type": "code",
   "execution_count": 0,
   "metadata": {
    "application/vnd.databricks.v1+cell": {
     "cellMetadata": {
      "byteLimit": 2048000,
      "rowLimit": 10000
     },
     "inputWidgets": {},
     "nuid": "86f85ed9-71dc-4360-9eb4-a653efacfbd0",
     "showTitle": false,
     "title": ""
    }
   },
   "outputs": [],
   "source": [
    "# Q1: replace pass with your code\n",
    "def extract_email_network(rdd):\n",
    "    def filter_by_date(pair):\n",
    "        # Assumes pair is structured as ((sender, receiver), date)\n",
    "        if drange is None:\n",
    "            return True\n",
    "        else:\n",
    "            # Convert string date to datetime object\n",
    "            date = date_to_dt(pair[1])\n",
    "            return drange[0] <= date <= drange[1]\n",
    "\n",
    "    # Map each sender-receiver pair to a tuple ((sender, receiver), 1), then reduce by key to count interactions\n",
    "    # Optionally filter by date range if provided\n",
    "    return rdd.map(lambda x: ((x[0], x[1]), 1)).reduceByKey(lambda a, b: a + b).filter(filter_by_date).map(lambda x: (*x[0], x[1]))"
   ]
  },
  {
   "cell_type": "code",
   "execution_count": 0,
   "metadata": {
    "application/vnd.databricks.v1+cell": {
     "cellMetadata": {
      "byteLimit": 2048000,
      "rowLimit": 10000
     },
     "inputWidgets": {},
     "nuid": "ec83c660-e398-494e-aa6d-b6ab5d314f65",
     "showTitle": false,
     "title": ""
    }
   },
   "outputs": [],
   "source": [
    "#  Q2: replace pass with your code\n",
    "def convert_to_weighted_network(rdd, drange=None):\n",
    "    def filter_by_date(data):\n",
    "        _, _, timestamp = data\n",
    "        if drange is None:\n",
    "            return True\n",
    "        else:\n",
    "            return drange[0] <= timestamp <= drange[1]\n",
    "\n",
    "    # Map the RDD to ((sender, receiver), 1), reduce by key, then map to (sender, receiver, count)\n",
    "    return (rdd.filter(filter_by_date)\n",
    "              .map(lambda x: ((x[0], x[1]), 1))\n",
    "              .reduceByKey(lambda a, b: a + b)\n",
    "              .map(lambda x: (x[0][0], x[0][1], x[1])))\n"
   ]
  },
  {
   "cell_type": "code",
   "execution_count": 0,
   "metadata": {
    "application/vnd.databricks.v1+cell": {
     "cellMetadata": {
      "byteLimit": 2048000,
      "rowLimit": 10000
     },
     "inputWidgets": {},
     "nuid": "d9f2058f-5782-4d63-a203-d0691657c4dd",
     "showTitle": false,
     "title": ""
    }
   },
   "outputs": [],
   "source": [
    "# Q3.1: replace pass with your code\n",
    "def get_out_degrees(rdd):\n",
    "    # Map to (sender, weight), reduce by key, then map to (weight, sender)\n",
    "    return rdd.map(lambda x: (x[0], x[2])).reduceByKey(lambda a, b: a + b).map(lambda x: (x[1], x[0])).sortByKey(False)"
   ]
  },
  {
   "cell_type": "code",
   "execution_count": 0,
   "metadata": {
    "application/vnd.databricks.v1+cell": {
     "cellMetadata": {
      "byteLimit": 2048000,
      "rowLimit": 10000
     },
     "inputWidgets": {},
     "nuid": "d05a994f-8b7b-496e-9286-6b35770cf8a1",
     "showTitle": false,
     "title": ""
    }
   },
   "outputs": [],
   "source": [
    "#Q3.2: replace pass with your code         \n",
    "def get_in_degrees(rdd):\n",
    "    # Map to (receiver, weight), reduce by key, then map to (weight, receiver)\n",
    "    return rdd.map(lambda x: (x[1], x[2])).reduceByKey(lambda a, b: a + b).map(lambda x: (x[1], x[0])).sortByKey(False)"
   ]
  },
  {
   "cell_type": "code",
   "execution_count": 0,
   "metadata": {
    "application/vnd.databricks.v1+cell": {
     "cellMetadata": {
      "byteLimit": 2048000,
      "rowLimit": 10000
     },
     "inputWidgets": {},
     "nuid": "02e548f7-ec38-4dd8-a5ba-5329f84956aa",
     "showTitle": false,
     "title": ""
    }
   },
   "outputs": [],
   "source": [
    "# Q4.1: replace pass with your code            \n",
    "def get_out_degree_dist(rdd):\n",
    "    # Map to (sender, weight), reduce by key, map to weight only, then count by value\n",
    "    return rdd.map(lambda x: (x[0], x[2])).reduceByKey(lambda a, b: a + b).map(lambda x: x[1]).countByValue().items()\n"
   ]
  },
  {
   "cell_type": "code",
   "execution_count": 0,
   "metadata": {
    "application/vnd.databricks.v1+cell": {
     "cellMetadata": {
      "byteLimit": 2048000,
      "rowLimit": 10000
     },
     "inputWidgets": {},
     "nuid": "07a37df8-35f3-4b06-8783-bd5ebe3064c6",
     "showTitle": false,
     "title": ""
    }
   },
   "outputs": [],
   "source": [
    "# Q4.2: replace pass with your code\n",
    "def get_in_degree_dist(rdd):\n",
    "     # Map to (receiver, weight), reduce by key, map to weight only, then count by value\n",
    "    return rdd.map(lambda x: (x[1], x[2])).reduceByKey(lambda a, b: a + b).map(lambda x: x[1]).countByValue().items()"
   ]
  },
  {
   "cell_type": "code",
   "execution_count": 0,
   "metadata": {
    "application/vnd.databricks.v1+cell": {
     "cellMetadata": {
      "byteLimit": 2048000,
      "rowLimit": 10000
     },
     "inputWidgets": {},
     "nuid": "e0e43bca-123e-4e65-b4cc-e82878c3a93c",
     "showTitle": false,
     "title": ""
    }
   },
   "outputs": [
    {
     "output_type": "stream",
     "name": "stdout",
     "output_type": "stream",
     "text": [
      "2000-08-28 06:57:00-07:00\n"
     ]
    }
   ],
   "source": [
    "test_date = \"Mon, 28 Aug 2000 06:57:00 -0700 (PDT)\"\n",
    "print(date_to_dt(test_date))  # Replace print with display for Databricks formatted output, if desired\n"
   ]
  }
 ],
 "metadata": {
  "application/vnd.databricks.v1+notebook": {
   "dashboards": [],
   "language": "python",
   "notebookMetadata": {
    "pythonIndentUnit": 4
   },
   "notebookName": "project",
   "widgets": {}
  }
 },
 "nbformat": 4,
 "nbformat_minor": 0
}
