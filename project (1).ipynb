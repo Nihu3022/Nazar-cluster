{
 "cells": [
  {
   "cell_type": "code",
   "execution_count": 0,
   "metadata": {
    "application/vnd.databricks.v1+cell": {
     "cellMetadata": {
      "byteLimit": 2048000,
      "rowLimit": 10000
     },
     "inputWidgets": {},
     "nuid": "69a6eae0-ba1f-4988-878e-4771892d93ab",
     "showTitle": false,
     "title": ""
    }
   },
   "outputs": [],
   "source": [
    "#!/usr/bin/env python3\n",
    "# -*- coding: utf-8 -*-\n",
    "\"\"\"\n",
    "Created on Sat Mar 14 22:00:09 2020\n",
    "\n",
    "@author: ufac001\n",
    "\"\"\"\n",
    "\n",
    "from email.parser import Parser\n",
    "import re\n",
    "import time\n",
    "from datetime import datetime, timezone, timedelta\n",
    "\n",
    "def date_to_dt(date):\n",
    "    def to_dt(tms):\n",
    "        def tz():\n",
    "            return timezone(timedelta(seconds=tms.tm_gmtoff))\n",
    "        return datetime(tms.tm_year, tms.tm_mon, tms.tm_mday, \n",
    "                      tms.tm_hour, tms.tm_min, tms.tm_sec, \n",
    "                      tzinfo=tz())\n",
    "    return to_dt(time.strptime(date[:-6], '%a, %d %b %Y %H:%M:%S %z'))"
   ]
  },
  {
   "cell_type": "code",
   "execution_count": 0,
   "metadata": {
    "application/vnd.databricks.v1+cell": {
     "cellMetadata": {
      "byteLimit": 2048000,
      "rowLimit": 10000
     },
     "inputWidgets": {},
     "nuid": "beb014fa-0b4b-40fb-a442-fd6234b8e0f2",
     "showTitle": false,
     "title": ""
    }
   },
   "outputs": [],
   "source": [
    "# Q1: replace pass with your code\n",
    "def extract_email_network(rdd):\n",
    "    def parse_email(record):\n",
    "        parser = Parser()\n",
    "        email = parser.parsestr(record[1])  # record is (key, value) pair from the RDD\n",
    "        sender = email.get('From')\n",
    "        recipients_list = email.get('To', '').split(',') if email.get('To') else []\n",
    "        date = email.get('Date')\n",
    "        datetime_obj = date_to_dt(date)\n",
    "        return [(sender, recipient.strip(), datetime_obj) for recipient in recipients_list]\n",
    "    return rdd.flatMap(parse_email)"
   ]
  },
  {
   "cell_type": "code",
   "execution_count": 0,
   "metadata": {
    "application/vnd.databricks.v1+cell": {
     "cellMetadata": {
      "byteLimit": 2048000,
      "rowLimit": 10000
     },
     "inputWidgets": {},
     "nuid": "124999d0-5022-42cd-82c1-c56cff36b6f0",
     "showTitle": false,
     "title": ""
    }
   },
   "outputs": [],
   "source": [
    "# Q2: replace pass with your code\n",
    "def convert_to_weighted_network(rdd, drange=None):\n",
    "    def filter_by_date(item):\n",
    "        _, _, timestamp = item\n",
    "        return drange[0] <= timestamp <= drange[1] if drange and timestamp else True\n",
    "    filtered_rdd = rdd.filter(filter_by_date)\n",
    "    return filtered_rdd.map(lambda x: ((x[0], x[1]), 1)).reduceByKey(lambda a, b: a + b)"
   ]
  },
  {
   "cell_type": "code",
   "execution_count": 0,
   "metadata": {
    "application/vnd.databricks.v1+cell": {
     "cellMetadata": {
      "byteLimit": 2048000,
      "rowLimit": 10000
     },
     "inputWidgets": {},
     "nuid": "717bdad9-e375-4936-8b78-2612c726a387",
     "showTitle": false,
     "title": ""
    }
   },
   "outputs": [],
   "source": [
    "# Q3.1: replace pass with your code\n",
    "def get_out_degrees(rdd):\n",
    "    return rdd.map(lambda x: (x[0][0], 1)).reduceByKey(lambda a, b: a + b)"
   ]
  },
  {
   "cell_type": "code",
   "execution_count": 0,
   "metadata": {
    "application/vnd.databricks.v1+cell": {
     "cellMetadata": {
      "byteLimit": 2048000,
      "rowLimit": 10000
     },
     "inputWidgets": {},
     "nuid": "29b62e71-bbd5-4a78-968e-a8e14f848cf5",
     "showTitle": false,
     "title": ""
    }
   },
   "outputs": [],
   "source": [
    "# Q3.2: replace pass with your code         \n",
    "def get_in_degrees(rdd):\n",
    "    return rdd.map(lambda x: (x[0][1], 1)).reduceByKey(lambda a, b: a + b)"
   ]
  },
  {
   "cell_type": "code",
   "execution_count": 0,
   "metadata": {
    "application/vnd.databricks.v1+cell": {
     "cellMetadata": {
      "byteLimit": 2048000,
      "rowLimit": 10000
     },
     "inputWidgets": {},
     "nuid": "9724e03d-e3ba-4cda-ab99-84437f5010d0",
     "showTitle": false,
     "title": ""
    }
   },
   "outputs": [],
   "source": [
    "# Q4.1: replace pass with your code            \n",
    "def get_out_degree_dist(rdd):\n",
    "    out_degrees = get_out_degrees(rdd)\n",
    "    return out_degrees.map(lambda x: (x[1], 1)).reduceByKey(lambda a, b: a + b)"
   ]
  },
  {
   "cell_type": "code",
   "execution_count": 0,
   "metadata": {
    "application/vnd.databricks.v1+cell": {
     "cellMetadata": {
      "byteLimit": 2048000,
      "rowLimit": 10000
     },
     "inputWidgets": {},
     "nuid": "53bff3c0-4d35-44a6-ac75-2bcbbd1b6a3a",
     "showTitle": false,
     "title": ""
    }
   },
   "outputs": [],
   "source": [
    "# Q4.2: replace pass with your code\n",
    "def get_in_degree_dist(rdd):\n",
    "    in_degrees = get_in_degrees(rdd)\n",
    "    return in_degrees.map(lambda x: (x[1], 1)).reduceByKey(lambda a, b: a + b)"
   ]
  }
 ],
 "metadata": {
  "application/vnd.databricks.v1+notebook": {
   "dashboards": [],
   "language": "python",
   "notebookMetadata": {
    "pythonIndentUnit": 4
   },
   "notebookName": "project",
   "widgets": {}
  }
 },
 "nbformat": 4,
 "nbformat_minor": 0
}
